{
 "cells": [
  {
   "cell_type": "markdown",
   "id": "03f1677d",
   "metadata": {},
   "source": [
    "## References:\n",
    "- Machine Learning with Python Cookbook, 2nd Edition, Kyle Gallatin, Chris Albon, O'Reilly Media, Inc.\n",
    "- http://alexlenail.me/NN-SVG/index.html\n",
    "- https://machinelearningmastery.com/choose-an-activation-function-for-deep-learning/\n",
    "- https://learn.udacity.com/courses/ud187"
   ]
  },
  {
   "cell_type": "markdown",
   "id": "bceab06e",
   "metadata": {},
   "source": [
    "### Traditional programming vs machine learning:\n",
    "\n",
    "<img src=\"./traditional_vs_machine_learning1.png\" align=\"left\" width=\"500\" />"
   ]
  },
  {
   "attachments": {},
   "cell_type": "markdown",
   "id": "a5f37662",
   "metadata": {},
   "source": [
    "### Let's look inside an individual artificial neural network node:\n",
    "\n",
    "We are targeting to find the rule to convert temperature in Celsius scale to Fahrenheit which is mentioned above using a one node neural network.\n",
    "\n",
    "<img src=\"./neural_network_one_node.png\" align=\"left\" width=\"500\" />"
   ]
  },
  {
   "cell_type": "markdown",
   "id": "bc332671",
   "metadata": {},
   "source": [
    "### Building a full blown artificial neural network from the concept mentioned above:\n",
    "\n",
    "<img src=\"./neural_network_nodes.png\" align=\"left\" width=\"800\" />"
   ]
  },
  {
   "cell_type": "markdown",
   "id": "73c10357",
   "metadata": {},
   "source": [
    "### Training an artifical neural network:\n",
    "\n",
    "<img src=\"./neural_network_training.png\" align=\"left\" width=\"800\" />"
   ]
  },
  {
   "cell_type": "markdown",
   "id": "e721f530",
   "metadata": {},
   "source": [
    "### It's time for coding :-)"
   ]
  },
  {
   "cell_type": "code",
   "execution_count": 24,
   "id": "ad887868",
   "metadata": {},
   "outputs": [],
   "source": [
    "# We import all the necessary libraries at the beginning\n",
    "import torch\n",
    "import torch.nn as nn \n",
    "import numpy as np\n",
    "import pandas as pd\n",
    "from torch.utils.data import DataLoader, TensorDataset\n",
    "from torch.optim import RMSprop \n",
    "from sklearn.datasets import make_regression \n",
    "from sklearn.model_selection import train_test_split"
   ]
  },
  {
   "cell_type": "code",
   "execution_count": 25,
   "id": "f2cd0575",
   "metadata": {},
   "outputs": [
    {
     "name": "stdout",
     "output_type": "stream",
     "text": [
      "2.0.1+cu118\n",
      "Using device: cuda\n",
      "\n",
      "True\n",
      "1\n",
      "<torch.cuda.device object at 0x000002065DEF7940>\n",
      "NVIDIA GeForce RTX 3060 Laptop GPU\n",
      "Memory Usage:\n",
      "Allocated: 0.0 GB\n",
      "Cached:    0.0 GB\n"
     ]
    }
   ],
   "source": [
    "print(torch.__version__)\n",
    "\n",
    "# Check if CUDA is available\n",
    "device = torch.device('cuda' if torch.cuda.is_available() else 'cpu')\n",
    "print('Using device:', device)\n",
    "print()\n",
    "\n",
    "# Additional Info when using CUDA\n",
    "if device.type == 'cuda':\n",
    "    print(torch.cuda.is_available())\n",
    "    print(torch.cuda.device_count())\n",
    "    print(torch.cuda.device(0))\n",
    "    print(torch.cuda.get_device_name(0))\n",
    "    print('Memory Usage:')\n",
    "    print('Allocated:', round(torch.cuda.memory_allocated(0)/1024**3,1), 'GB')\n",
    "    print('Cached:   ', round(torch.cuda.memory_reserved(0)/1024**3,1), 'GB')"
   ]
  },
  {
   "cell_type": "markdown",
   "id": "d5c55d5d",
   "metadata": {},
   "source": [
    "### What is CUDA?\n",
    "CUDA is a programming model and computing toolkit developed by NVIDIA. It enables you to perform compute-intensive operations faster by parallelizing tasks across GPUs. CUDA is the dominant API used for deep learning although other options are available, such as OpenCL. PyTorch provides support for CUDA in the torch."
   ]
  },
  {
   "cell_type": "code",
   "execution_count": 3,
   "id": "1c3292d1",
   "metadata": {},
   "outputs": [],
   "source": [
    "# We generate a sample regression dataset\n",
    "features, target = make_regression(n_features = 5, n_samples = 1000)\n",
    "features_train, features_test, target_train, target_test = train_test_split(features, target, test_size = 0.1, random_state = 1)"
   ]
  },
  {
   "cell_type": "code",
   "execution_count": 4,
   "id": "1a582830",
   "metadata": {},
   "outputs": [
    {
     "data": {
      "text/html": [
       "<div>\n",
       "<style scoped>\n",
       "    .dataframe tbody tr th:only-of-type {\n",
       "        vertical-align: middle;\n",
       "    }\n",
       "\n",
       "    .dataframe tbody tr th {\n",
       "        vertical-align: top;\n",
       "    }\n",
       "\n",
       "    .dataframe thead th {\n",
       "        text-align: right;\n",
       "    }\n",
       "</style>\n",
       "<table border=\"1\" class=\"dataframe\">\n",
       "  <thead>\n",
       "    <tr style=\"text-align: right;\">\n",
       "      <th></th>\n",
       "      <th>0</th>\n",
       "      <th>1</th>\n",
       "      <th>2</th>\n",
       "      <th>3</th>\n",
       "      <th>4</th>\n",
       "      <th>5</th>\n",
       "    </tr>\n",
       "  </thead>\n",
       "  <tbody>\n",
       "    <tr>\n",
       "      <th>0</th>\n",
       "      <td>-0.510482</td>\n",
       "      <td>2.407717</td>\n",
       "      <td>1.737883</td>\n",
       "      <td>0.422481</td>\n",
       "      <td>0.894602</td>\n",
       "      <td>252.992872</td>\n",
       "    </tr>\n",
       "    <tr>\n",
       "      <th>1</th>\n",
       "      <td>-0.350916</td>\n",
       "      <td>0.096908</td>\n",
       "      <td>-0.325012</td>\n",
       "      <td>-0.386612</td>\n",
       "      <td>-1.188518</td>\n",
       "      <td>-131.277007</td>\n",
       "    </tr>\n",
       "    <tr>\n",
       "      <th>2</th>\n",
       "      <td>0.181726</td>\n",
       "      <td>-0.483484</td>\n",
       "      <td>-0.395651</td>\n",
       "      <td>1.252229</td>\n",
       "      <td>-1.888418</td>\n",
       "      <td>-182.694956</td>\n",
       "    </tr>\n",
       "    <tr>\n",
       "      <th>3</th>\n",
       "      <td>-0.250215</td>\n",
       "      <td>1.603529</td>\n",
       "      <td>-1.477737</td>\n",
       "      <td>-0.364723</td>\n",
       "      <td>-1.195316</td>\n",
       "      <td>-224.982165</td>\n",
       "    </tr>\n",
       "    <tr>\n",
       "      <th>4</th>\n",
       "      <td>-0.544443</td>\n",
       "      <td>-0.407331</td>\n",
       "      <td>-0.974930</td>\n",
       "      <td>-0.081232</td>\n",
       "      <td>-0.832304</td>\n",
       "      <td>-178.909016</td>\n",
       "    </tr>\n",
       "  </tbody>\n",
       "</table>\n",
       "</div>"
      ],
      "text/plain": [
       "          0         1         2         3         4           5\n",
       "0 -0.510482  2.407717  1.737883  0.422481  0.894602  252.992872\n",
       "1 -0.350916  0.096908 -0.325012 -0.386612 -1.188518 -131.277007\n",
       "2  0.181726 -0.483484 -0.395651  1.252229 -1.888418 -182.694956\n",
       "3 -0.250215  1.603529 -1.477737 -0.364723 -1.195316 -224.982165\n",
       "4 -0.544443 -0.407331 -0.974930 -0.081232 -0.832304 -178.909016"
      ]
     },
     "execution_count": 4,
     "metadata": {},
     "output_type": "execute_result"
    }
   ],
   "source": [
    "# Let's look into top few records from the training dataset\n",
    "pd.DataFrame(np.hstack((features_train, target_train.reshape(-1,1)))).head()"
   ]
  },
  {
   "cell_type": "code",
   "execution_count": 5,
   "id": "379d0703",
   "metadata": {},
   "outputs": [
    {
     "data": {
      "text/html": [
       "<div>\n",
       "<style scoped>\n",
       "    .dataframe tbody tr th:only-of-type {\n",
       "        vertical-align: middle;\n",
       "    }\n",
       "\n",
       "    .dataframe tbody tr th {\n",
       "        vertical-align: top;\n",
       "    }\n",
       "\n",
       "    .dataframe thead th {\n",
       "        text-align: right;\n",
       "    }\n",
       "</style>\n",
       "<table border=\"1\" class=\"dataframe\">\n",
       "  <thead>\n",
       "    <tr style=\"text-align: right;\">\n",
       "      <th></th>\n",
       "      <th>0</th>\n",
       "      <th>1</th>\n",
       "      <th>2</th>\n",
       "      <th>3</th>\n",
       "      <th>4</th>\n",
       "      <th>5</th>\n",
       "    </tr>\n",
       "  </thead>\n",
       "  <tbody>\n",
       "    <tr>\n",
       "      <th>0</th>\n",
       "      <td>0.531787</td>\n",
       "      <td>-0.469623</td>\n",
       "      <td>1.342349</td>\n",
       "      <td>-0.358841</td>\n",
       "      <td>1.166131</td>\n",
       "      <td>229.769034</td>\n",
       "    </tr>\n",
       "    <tr>\n",
       "      <th>1</th>\n",
       "      <td>0.555324</td>\n",
       "      <td>0.886319</td>\n",
       "      <td>-0.203736</td>\n",
       "      <td>0.510148</td>\n",
       "      <td>1.236463</td>\n",
       "      <td>99.948004</td>\n",
       "    </tr>\n",
       "    <tr>\n",
       "      <th>2</th>\n",
       "      <td>-0.453809</td>\n",
       "      <td>-0.340302</td>\n",
       "      <td>0.430804</td>\n",
       "      <td>-0.907571</td>\n",
       "      <td>-0.170842</td>\n",
       "      <td>12.433519</td>\n",
       "    </tr>\n",
       "    <tr>\n",
       "      <th>3</th>\n",
       "      <td>-1.802620</td>\n",
       "      <td>-0.075509</td>\n",
       "      <td>0.756359</td>\n",
       "      <td>0.637840</td>\n",
       "      <td>0.002002</td>\n",
       "      <td>24.668158</td>\n",
       "    </tr>\n",
       "    <tr>\n",
       "      <th>4</th>\n",
       "      <td>-0.028400</td>\n",
       "      <td>0.113605</td>\n",
       "      <td>0.431450</td>\n",
       "      <td>-1.519740</td>\n",
       "      <td>-0.020177</td>\n",
       "      <td>40.481301</td>\n",
       "    </tr>\n",
       "  </tbody>\n",
       "</table>\n",
       "</div>"
      ],
      "text/plain": [
       "          0         1         2         3         4           5\n",
       "0  0.531787 -0.469623  1.342349 -0.358841  1.166131  229.769034\n",
       "1  0.555324  0.886319 -0.203736  0.510148  1.236463   99.948004\n",
       "2 -0.453809 -0.340302  0.430804 -0.907571 -0.170842   12.433519\n",
       "3 -1.802620 -0.075509  0.756359  0.637840  0.002002   24.668158\n",
       "4 -0.028400  0.113605  0.431450 -1.519740 -0.020177   40.481301"
      ]
     },
     "execution_count": 5,
     "metadata": {},
     "output_type": "execute_result"
    }
   ],
   "source": [
    "# Let's look into top few records from the test dataset\n",
    "pd.DataFrame(np.hstack((features_test, target_test.reshape(-1,1)))).head()"
   ]
  },
  {
   "cell_type": "code",
   "execution_count": 6,
   "id": "b50b6832",
   "metadata": {},
   "outputs": [
    {
     "name": "stdout",
     "output_type": "stream",
     "text": [
      "Training feature set -> type - <class 'numpy.ndarray'>, shape - (900, 5)\n",
      "[-0.51048233  2.40771736  1.73788265  0.42248111  0.89460155]\n"
     ]
    }
   ],
   "source": [
    "# Print the type and shape of the dataset\n",
    "print('Training feature set -> type - {}, shape - {}'.format(type(features_train), features_train.shape))\n",
    "print(features_train[0])"
   ]
  },
  {
   "cell_type": "code",
   "execution_count": 7,
   "id": "17661b46",
   "metadata": {},
   "outputs": [
    {
     "name": "stdout",
     "output_type": "stream",
     "text": [
      "Test feature set -> type - <class 'numpy.ndarray'>, shape - (100, 5)\n",
      "[ 0.5317865  -0.46962298  1.34234872 -0.3588414   1.16613139]\n"
     ]
    }
   ],
   "source": [
    "# Print the type and shape of the dataset\n",
    "print('Test feature set -> type - {}, shape - {}'.format(type(features_test), features_test.shape))\n",
    "print(features_test[0])"
   ]
  },
  {
   "cell_type": "code",
   "execution_count": 8,
   "id": "1e9a9a46",
   "metadata": {},
   "outputs": [
    {
     "name": "stdout",
     "output_type": "stream",
     "text": [
      "Training target set -> type - <class 'numpy.ndarray'>, shape - (900,)\n",
      "252.99287153773437\n"
     ]
    }
   ],
   "source": [
    "# Print the type and shape of the dataset\n",
    "print('Training target set -> type - {}, shape - {}'.format(type(target_train), target_train.shape))\n",
    "print(target_train[0])"
   ]
  },
  {
   "cell_type": "code",
   "execution_count": 9,
   "id": "b70d391f",
   "metadata": {},
   "outputs": [
    {
     "name": "stdout",
     "output_type": "stream",
     "text": [
      "Test target set -> type - <class 'numpy.ndarray'>, shape - (100,)\n",
      "229.769033716558\n"
     ]
    }
   ],
   "source": [
    "# Print the type and shape of the dataset\n",
    "print('Test target set -> type - {}, shape - {}'.format(type(target_test), target_test.shape))\n",
    "print(target_test[0])"
   ]
  },
  {
   "cell_type": "code",
   "execution_count": 10,
   "id": "78c80a5c",
   "metadata": {},
   "outputs": [],
   "source": [
    "# To work with Pytorch, we need to convert the ndarrays to tensors\n",
    "x_train = torch.from_numpy(features_train).float() \n",
    "y_train = torch.from_numpy(target_train).float().view(-1,1) \n",
    "x_test = torch.from_numpy(features_test).float()\n",
    "y_test = torch.from_numpy(target_test).float().view(-1,1)"
   ]
  },
  {
   "cell_type": "code",
   "execution_count": 11,
   "id": "4b3a732a",
   "metadata": {},
   "outputs": [
    {
     "name": "stdout",
     "output_type": "stream",
     "text": [
      "Training feature set -> type - <class 'torch.Tensor'>, shape - torch.Size([900, 5]), is CUDA - False\n",
      "tensor([-0.5105,  2.4077,  1.7379,  0.4225,  0.8946])\n"
     ]
    }
   ],
   "source": [
    "# Print the type and shape of the converted dataset\n",
    "print('Training feature set -> type - {}, shape - {}, is CUDA - {}'.format(type(x_train), x_train.shape, x_train.is_cuda))\n",
    "print(x_train[0])"
   ]
  },
  {
   "cell_type": "code",
   "execution_count": 12,
   "id": "c0c24592",
   "metadata": {},
   "outputs": [
    {
     "name": "stdout",
     "output_type": "stream",
     "text": [
      "Test feature set -> type - <class 'torch.Tensor'>, shape - torch.Size([100, 5]), is CUDA - False\n",
      "tensor([ 0.5318, -0.4696,  1.3423, -0.3588,  1.1661])\n"
     ]
    }
   ],
   "source": [
    "# Print the type and shape of the converted dataset\n",
    "print('Test feature set -> type - {}, shape - {}, is CUDA - {}'.format(type(x_test), x_test.shape, x_test.is_cuda))\n",
    "print(x_test[0])"
   ]
  },
  {
   "cell_type": "code",
   "execution_count": 13,
   "id": "1e58af3e",
   "metadata": {},
   "outputs": [
    {
     "name": "stdout",
     "output_type": "stream",
     "text": [
      "Train target set -> type - <class 'torch.Tensor'>, shape - torch.Size([900, 1]), is CUDA - False\n",
      "tensor([252.9929])\n"
     ]
    }
   ],
   "source": [
    "# Print the type and shape of the converted dataset\n",
    "print('Train target set -> type - {}, shape - {}, is CUDA - {}'.format(type(y_train), y_train.shape, y_train.is_cuda))\n",
    "print(y_train[0])"
   ]
  },
  {
   "cell_type": "code",
   "execution_count": 14,
   "id": "801753a5",
   "metadata": {},
   "outputs": [
    {
     "name": "stdout",
     "output_type": "stream",
     "text": [
      "Test target set -> type - <class 'torch.Tensor'>, shape - torch.Size([100, 1]), is CUDA - False\n",
      "tensor([229.7690])\n"
     ]
    }
   ],
   "source": [
    "# Print the type and shape of the converted dataset\n",
    "print('Test target set -> type - {}, shape - {}, is CUDA - {}'.format(type(y_test), y_test.shape, y_test.is_cuda))\n",
    "print(y_test[0])"
   ]
  },
  {
   "cell_type": "code",
   "execution_count": 15,
   "id": "d49cae40",
   "metadata": {},
   "outputs": [
    {
     "name": "stdout",
     "output_type": "stream",
     "text": [
      "Test target set -> type - <class 'torch.Tensor'>, shape - torch.Size([100, 1]), is CUDA - True\n",
      "tensor([229.7690], device='cuda:0')\n"
     ]
    }
   ],
   "source": [
    "# Now, send all the datasets to GPU, if available\n",
    "x_train = x_train.to(device)\n",
    "x_test = x_test.to(device)\n",
    "y_train = y_train.to(device)\n",
    "y_test = y_test.to(device)\n",
    "\n",
    "# Print the type and shape of the converted dataset\n",
    "print('Test target set -> type - {}, shape - {}, is CUDA - {}'.format(type(y_test), y_test.shape, y_test.is_cuda))\n",
    "print(y_test[0])"
   ]
  },
  {
   "cell_type": "code",
   "execution_count": 16,
   "id": "6c45e9f5",
   "metadata": {},
   "outputs": [],
   "source": [
    "# Define the Neural Netowrk to solve this regression problem\n",
    "class RegressorNeuralNet(nn.Module): \n",
    "    def __init__(self): \n",
    "        super(RegressorNeuralNet, self).__init__()\n",
    "        self.fc1 = nn.Linear(5, 10) # in_features=5, out_features=10\n",
    "        self.fc2 = nn.Linear(10, 10) # in_features=10, out_features=10\n",
    "        self.fc3 = nn.Linear(10, 1)  # in_features=10, out_features=1\n",
    "        \n",
    "    def forward(self, x): \n",
    "        x = nn.functional.relu(self.fc1(x))    # We used RELU as the activation function\n",
    "        x = nn.functional.relu(self.fc2(x))    # We used RELU as the activation function\n",
    "        x = self.fc3(x)                        # No activation function at the output layer as this is a regression problem\n",
    "        return x"
   ]
  },
  {
   "cell_type": "markdown",
   "id": "30b0ad8e",
   "metadata": {},
   "source": [
    "### Activation function:\n",
    "- The purpose of an activation function is to introduce **non-linearity** into the output of a neuron.\n",
    "- Following are few popular activation functions for hidden layers:\n",
    "    - Rectified linear activation function or RELU\n",
    "    - Sigmoid\n",
    "    - TanH\n",
    "- Following are few popular activation functions for output layers:\n",
    "    - Linear\n",
    "    - Sigmoid\n",
    "    - Softmax\n",
    "\n",
    "<table>\n",
    "    <tr>\n",
    "      <td>\n",
    "      <img src='./Linear.png' width=300>\n",
    "      </td>\n",
    "      <td>\n",
    "      <img src='./RELU.png' width=300>\n",
    "      </td>\n",
    "     </tr>\n",
    "    <tr>\n",
    "      <td>\n",
    "      Linear\n",
    "      </td>\n",
    "      <td>\n",
    "      RELU\n",
    "      </td>\n",
    "     </tr>  \n",
    "    <tr>\n",
    "      <td>\n",
    "      <img src='./Sigmoid.png' width=300>\n",
    "      </td>\n",
    "      <td>\n",
    "      <img src='./TanH.png' width=300>\n",
    "      </td>\n",
    "     </tr>\n",
    "    <tr>\n",
    "      <td>\n",
    "      Sigmoid\n",
    "      </td>\n",
    "      <td>\n",
    "      TanH\n",
    "      </td>\n",
    "     </tr>     \n",
    "</table>"
   ]
  },
  {
   "cell_type": "code",
   "execution_count": 17,
   "id": "d07b265d",
   "metadata": {},
   "outputs": [],
   "source": [
    "# Initialize the network now\n",
    "network = RegressorNeuralNet()\n",
    "\n",
    "# Define loss function and the optimizer\n",
    "criterion = nn.MSELoss()\n",
    "optimizer = RMSprop(network.parameters())"
   ]
  },
  {
   "cell_type": "markdown",
   "id": "ae99c1a9",
   "metadata": {},
   "source": [
    "## Calculating loss for regression problems:\n",
    "### We need to know how close are the predictions of the network to the actual targets\n",
    "- Mean Absolute Error\n",
    "- Mean Squared Error, this is in the square of the target value, so not very intuititive\n",
    "- Root Mean Squared Error, this is in the same unit as the target value"
   ]
  },
  {
   "cell_type": "code",
   "execution_count": 18,
   "id": "b061ae6a",
   "metadata": {},
   "outputs": [
    {
     "data": {
      "text/plain": [
       "RegressorNeuralNet(\n",
       "  (fc1): Linear(in_features=5, out_features=10, bias=True)\n",
       "  (fc2): Linear(in_features=10, out_features=10, bias=True)\n",
       "  (fc3): Linear(in_features=10, out_features=1, bias=True)\n",
       ")"
      ]
     },
     "execution_count": 18,
     "metadata": {},
     "output_type": "execute_result"
    }
   ],
   "source": [
    "# Print the network\n",
    "network"
   ]
  },
  {
   "cell_type": "markdown",
   "id": "b5919356",
   "metadata": {},
   "source": [
    "<img src=\"./regressor_neural_network.png\" align=\"left\" width=\"500\" />"
   ]
  },
  {
   "cell_type": "code",
   "execution_count": 19,
   "id": "044dad53",
   "metadata": {},
   "outputs": [
    {
     "data": {
      "text/plain": [
       "RegressorNeuralNet(\n",
       "  (fc1): Linear(in_features=5, out_features=10, bias=True)\n",
       "  (fc2): Linear(in_features=10, out_features=10, bias=True)\n",
       "  (fc3): Linear(in_features=10, out_features=1, bias=True)\n",
       ")"
      ]
     },
     "execution_count": 19,
     "metadata": {},
     "output_type": "execute_result"
    }
   ],
   "source": [
    "# Send the network to GPU as well, if available\n",
    "network.to(device)"
   ]
  },
  {
   "cell_type": "code",
   "execution_count": 20,
   "id": "ba10a7f0",
   "metadata": {},
   "outputs": [],
   "source": [
    "# Next, we define the dataloader\n",
    "train_data = TensorDataset(x_train, y_train) \n",
    "train_loader = DataLoader(train_data, batch_size = 100, shuffle = True)"
   ]
  },
  {
   "cell_type": "code",
   "execution_count": 21,
   "id": "158cfd7f",
   "metadata": {},
   "outputs": [],
   "source": [
    "# Define the number of EPOCHS we want to train\n",
    "EPOCHS = 20"
   ]
  },
  {
   "cell_type": "code",
   "execution_count": 22,
   "id": "67bd459f",
   "metadata": {},
   "outputs": [
    {
     "name": "stdout",
     "output_type": "stream",
     "text": [
      "Epoch: 1 \tLoss: 10573.80078125\n",
      "Epoch: 2 \tLoss: 6360.14599609375\n",
      "Epoch: 3 \tLoss: 2006.0125732421875\n",
      "Epoch: 4 \tLoss: 911.784423828125\n",
      "Epoch: 5 \tLoss: 442.1512145996094\n",
      "Epoch: 6 \tLoss: 392.2209167480469\n",
      "Epoch: 7 \tLoss: 179.36643981933594\n",
      "Epoch: 8 \tLoss: 172.88848876953125\n",
      "Epoch: 9 \tLoss: 235.4219512939453\n",
      "Epoch: 10 \tLoss: 169.36964416503906\n",
      "Epoch: 11 \tLoss: 172.76559448242188\n",
      "Epoch: 12 \tLoss: 164.09332275390625\n",
      "Epoch: 13 \tLoss: 203.74029541015625\n",
      "Epoch: 14 \tLoss: 189.70079040527344\n",
      "Epoch: 15 \tLoss: 144.33860778808594\n",
      "Epoch: 16 \tLoss: 119.57662200927734\n",
      "Epoch: 17 \tLoss: 188.75204467773438\n",
      "Epoch: 18 \tLoss: 113.64360809326172\n",
      "Epoch: 19 \tLoss: 103.78754425048828\n",
      "Epoch: 20 \tLoss: 140.3743438720703\n"
     ]
    }
   ],
   "source": [
    "# Start the training\n",
    "for epoch in range(EPOCHS):\n",
    "    for batch_idx, (data, target) in enumerate(train_loader): \n",
    "        optimizer.zero_grad()  # This is very important to zero out the gradient before every iterations\n",
    "        output = network(data) # This is where we are performing the forward propagation\n",
    "        loss = criterion(output, target) # This is where we are calculating the loss\n",
    "        loss.backward() # This is where we are performing the backward propagation\n",
    "        optimizer.step() # This is where we update the network parameters\n",
    "    print(\"Epoch:\", epoch+1, \"\\tLoss:\", loss.item())"
   ]
  },
  {
   "cell_type": "code",
   "execution_count": 23,
   "id": "ddefae2f",
   "metadata": {},
   "outputs": [
    {
     "name": "stdout",
     "output_type": "stream",
     "text": [
      "Test MSE: 169.60247802734375\n"
     ]
    }
   ],
   "source": [
    "# Evaluate neural network \n",
    "with torch.no_grad(): # When we evaluate the network, we dont track the gradients\n",
    "    output = network(x_test) # We derive the output\n",
    "    test_loss = float(criterion(output, y_test)) # We calculate the loss\n",
    "    print(\"Test MSE:\", test_loss)"
   ]
  },
  {
   "cell_type": "code",
   "execution_count": null,
   "id": "e8fbc0ac",
   "metadata": {},
   "outputs": [],
   "source": []
  }
 ],
 "metadata": {
  "kernelspec": {
   "display_name": "Python 3 (ipykernel)",
   "language": "python",
   "name": "python3"
  },
  "language_info": {
   "codemirror_mode": {
    "name": "ipython",
    "version": 3
   },
   "file_extension": ".py",
   "mimetype": "text/x-python",
   "name": "python",
   "nbconvert_exporter": "python",
   "pygments_lexer": "ipython3",
   "version": "3.9.13"
  }
 },
 "nbformat": 4,
 "nbformat_minor": 5
}
