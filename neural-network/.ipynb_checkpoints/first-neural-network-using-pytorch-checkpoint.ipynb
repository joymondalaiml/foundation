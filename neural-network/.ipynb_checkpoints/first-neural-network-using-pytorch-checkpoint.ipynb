{
 "cells": [
  {
   "cell_type": "code",
   "execution_count": 1,
   "id": "d11e9930",
   "metadata": {},
   "outputs": [],
   "source": [
    "# We import the necessary libraries at the beginning\n",
    "import torch \n",
    "import torch.nn as nn"
   ]
  },
  {
   "cell_type": "code",
   "execution_count": 2,
   "id": "3af5ec00",
   "metadata": {},
   "outputs": [],
   "source": [
    "# Define the first neural network\n",
    "class MyFirstNeuralNetwork(nn.Module):\n",
    "    def __init__(self): \n",
    "        super(MyFirstNeuralNetwork, self).__init__()\n",
    "        self.fc1 = nn.Linear(5, 8) # in_features=5, out_features=8\n",
    "        self.fc2 = nn.Linear(8, 8) # in_features=8, out_features=8\n",
    "        self.fc3 = nn.Linear(8, 1) # in_features=8, out_features=1\n",
    "        \n",
    "    def forward(self, x): \n",
    "        x = nn.functional.relu(self.fc1(x))    # We used RELU as the activation function\n",
    "        x = nn.functional.relu(self.fc2(x))    # We used RELU as the activation function\n",
    "        x = nn.functional.sigmoid(self.fc3(x)) # We used SIGMOID as the activation function\n",
    "        return x"
   ]
  },
  {
   "cell_type": "code",
   "execution_count": 3,
   "id": "ac0e2036",
   "metadata": {},
   "outputs": [],
   "source": [
    "# Let's initialize the network\n",
    "network = MyFirstNeuralNetwork()"
   ]
  },
  {
   "cell_type": "code",
   "execution_count": 4,
   "id": "03cc2dd6",
   "metadata": {},
   "outputs": [],
   "source": [
    "# Now, we define the loss function and the optimizer of the network\n",
    "loss_criterion = nn.BCELoss()\n",
    "optimizer = torch.optim.RMSprop(network.parameters())"
   ]
  },
  {
   "cell_type": "code",
   "execution_count": 5,
   "id": "4f462038",
   "metadata": {},
   "outputs": [
    {
     "data": {
      "text/plain": [
       "MyFirstNeuralNetwork(\n",
       "  (fc1): Linear(in_features=5, out_features=8, bias=True)\n",
       "  (fc2): Linear(in_features=8, out_features=8, bias=True)\n",
       "  (fc3): Linear(in_features=8, out_features=1, bias=True)\n",
       ")"
      ]
     },
     "execution_count": 5,
     "metadata": {},
     "output_type": "execute_result"
    }
   ],
   "source": [
    "# Print the network layers\n",
    "network"
   ]
  },
  {
   "cell_type": "code",
   "execution_count": null,
   "id": "c7c2d4df",
   "metadata": {},
   "outputs": [],
   "source": []
  }
 ],
 "metadata": {
  "kernelspec": {
   "display_name": "Python 3 (ipykernel)",
   "language": "python",
   "name": "python3"
  },
  "language_info": {
   "codemirror_mode": {
    "name": "ipython",
    "version": 3
   },
   "file_extension": ".py",
   "mimetype": "text/x-python",
   "name": "python",
   "nbconvert_exporter": "python",
   "pygments_lexer": "ipython3",
   "version": "3.9.13"
  }
 },
 "nbformat": 4,
 "nbformat_minor": 5
}
