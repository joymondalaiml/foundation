{
 "cells": [
  {
   "cell_type": "markdown",
   "id": "93b900a8",
   "metadata": {},
   "source": [
    "### Python list VS numpy ndarray\n",
    "- numpy array allows element wise operations"
   ]
  },
  {
   "cell_type": "code",
   "execution_count": 16,
   "id": "4d913e07",
   "metadata": {},
   "outputs": [],
   "source": [
    "import numpy as np\n",
    "import pandas as pd"
   ]
  },
  {
   "cell_type": "code",
   "execution_count": 17,
   "id": "6d2e8aef",
   "metadata": {},
   "outputs": [],
   "source": [
    "def add_separator():\n",
    "    print('************************************')"
   ]
  },
  {
   "cell_type": "code",
   "execution_count": 18,
   "id": "e9065b68",
   "metadata": {},
   "outputs": [
    {
     "name": "stdout",
     "output_type": "stream",
     "text": [
      "list = [1, 2, 3, 4, 5], data type = <class 'list'>\n",
      "numpy array = [1 2 3 4 5], data type = <class 'numpy.ndarray'>, shape = (5,)\n"
     ]
    }
   ],
   "source": [
    "my_python_list = [1,2,3,4,5]\n",
    "my_1d_numpy_array = np.array(my_python_list)\n",
    "print(\"list = {}, data type = {}\".format(my_python_list, type(my_python_list)))\n",
    "print(\"numpy array = {}, data type = {}, shape = {}\".format(my_1d_numpy_array, type(my_1d_numpy_array), my_1d_numpy_array.shape))"
   ]
  },
  {
   "cell_type": "code",
   "execution_count": 19,
   "id": "0a93dc66",
   "metadata": {},
   "outputs": [
    {
     "ename": "TypeError",
     "evalue": "can only concatenate list (not \"int\") to list",
     "output_type": "error",
     "traceback": [
      "\u001b[1;31m---------------------------------------------------------------------------\u001b[0m",
      "\u001b[1;31mTypeError\u001b[0m                                 Traceback (most recent call last)",
      "\u001b[1;32m~\\AppData\\Local\\Temp\\ipykernel_15472\\670901023.py\u001b[0m in \u001b[0;36m<module>\u001b[1;34m\u001b[0m\n\u001b[1;32m----> 1\u001b[1;33m \u001b[0mmy_python_list\u001b[0m \u001b[1;33m+\u001b[0m \u001b[1;36m1\u001b[0m \u001b[1;31m# This will give a RUNTIME ERROR as list can only be concatenated with another list\u001b[0m\u001b[1;33m\u001b[0m\u001b[1;33m\u001b[0m\u001b[0m\n\u001b[0m",
      "\u001b[1;31mTypeError\u001b[0m: can only concatenate list (not \"int\") to list"
     ]
    }
   ],
   "source": [
    "my_python_list + 1 # This will give a RUNTIME ERROR as list can only be concatenated with another list"
   ]
  },
  {
   "cell_type": "code",
   "execution_count": 20,
   "id": "e7138085",
   "metadata": {},
   "outputs": [
    {
     "name": "stdout",
     "output_type": "stream",
     "text": [
      "Adding 1 to the array\n",
      "[2 3 4 5 6]\n",
      "************************************\n",
      "[1, 2, 3, 4, 5, 1, 2, 3, 4, 5]\n",
      "************************************\n",
      "Adding array to the array\n",
      "[ 2  4  6  8 10]\n",
      "************************************\n",
      "Subtracting array from the array\n",
      "[0 0 0 0 0]\n",
      "************************************\n",
      "Multiplying array with 2\n",
      "[ 2  4  6  8 10]\n"
     ]
    }
   ],
   "source": [
    "print('Adding 1 to the array')\n",
    "print(my_1d_numpy_array + 1) # This will work for a numpy array, it will add 1 for every elements in the array\n",
    "add_separator()\n",
    "print(my_python_list + my_python_list) # This operation concatenates one list after another\n",
    "add_separator()\n",
    "print('Adding array to the array')\n",
    "print(my_1d_numpy_array + my_1d_numpy_array) # This operation adds the elements position wise for the arrays\n",
    "add_separator()\n",
    "print('Subtracting array from the array')\n",
    "print(my_1d_numpy_array - my_1d_numpy_array) # This operation subtracts the elements position wise for the arrays\n",
    "add_separator()\n",
    "print('Multiplying array with 2')\n",
    "print(my_1d_numpy_array * 2) # This operation multiplies the elements by 2 position wise"
   ]
  },
  {
   "cell_type": "code",
   "execution_count": 21,
   "id": "9ebe6b6f",
   "metadata": {},
   "outputs": [
    {
     "name": "stdout",
     "output_type": "stream",
     "text": [
      "[[1 2 3 4 5]\n",
      " [1 2 3 4 5]]\n",
      "************************************\n",
      "data type = <class 'numpy.ndarray'>, shape = (2, 5)\n"
     ]
    }
   ],
   "source": [
    "my_2d_numpy_array = np.array([my_python_list, my_python_list])\n",
    "print(my_2d_numpy_array)\n",
    "add_separator()\n",
    "print('data type = {}, shape = {}'.format(type(my_2d_numpy_array), my_2d_numpy_array.shape))"
   ]
  },
  {
   "cell_type": "code",
   "execution_count": 36,
   "id": "8d947703",
   "metadata": {},
   "outputs": [
    {
     "name": "stdout",
     "output_type": "stream",
     "text": [
      "Adding 1 to the array\n",
      "[[2 3 4 5 6]\n",
      " [2 3 4 5 6]]\n",
      "************************************\n",
      "Adding array to the array\n",
      "[[ 2  4  6  8 10]\n",
      " [ 2  4  6  8 10]]\n",
      "************************************\n",
      "Subtracting array from the array\n",
      "[[0 0 0 0 0]\n",
      " [0 0 0 0 0]]\n",
      "************************************\n",
      "Multiplying array with 2\n",
      "[[ 2  4  6  8 10]\n",
      " [ 2  4  6  8 10]]\n",
      "************************************\n",
      "Extracting elements from the 2d array - the FIRST dimension\n",
      "[1 2 3 4 5]\n",
      "************************************\n",
      "Extracting elements from the 2d array - the SECOND dimension\n",
      "1\n",
      "1\n"
     ]
    }
   ],
   "source": [
    "print('Adding 1 to the array')\n",
    "print(my_2d_numpy_array + 1) # This will work for a numpy array, it will add 1 for every elements in the array\n",
    "add_separator()\n",
    "print('Adding array to the array')\n",
    "print(my_2d_numpy_array + my_2d_numpy_array) # This operation adds the elements position wise for the arrays\n",
    "add_separator()\n",
    "print('Subtracting array from the array')\n",
    "print(my_2d_numpy_array - my_2d_numpy_array) # This operation subtracts the elements position wise for the arrays\n",
    "add_separator()\n",
    "print('Multiplying array with 2')\n",
    "print(my_2d_numpy_array * 2) # This operation multiplies the elements by 2 position wise\n",
    "add_separator()\n",
    "print('Extracting elements from the 2d array - the FIRST dimension')\n",
    "print(my_2d_numpy_array[0])\n",
    "add_separator()\n",
    "print('Extracting elements from the 2d array - the SECOND dimension')\n",
    "print(my_2d_numpy_array[0][0])\n",
    "print(my_2d_numpy_array[0,0])"
   ]
  },
  {
   "cell_type": "code",
   "execution_count": 37,
   "id": "47766bcc",
   "metadata": {},
   "outputs": [
    {
     "name": "stdout",
     "output_type": "stream",
     "text": [
      "[[[1 2 3 4 5]\n",
      "  [1 2 3 4 5]]]\n",
      "************************************\n",
      "data type = <class 'numpy.ndarray'>, shape = (1, 2, 5)\n"
     ]
    }
   ],
   "source": [
    "my_3d_numpy_array = np.array([[my_python_list, my_python_list]])\n",
    "print(my_3d_numpy_array)\n",
    "add_separator()\n",
    "print('data type = {}, shape = {}'.format(type(my_3d_numpy_array), my_3d_numpy_array.shape))"
   ]
  },
  {
   "cell_type": "code",
   "execution_count": 38,
   "id": "8fdbf90c",
   "metadata": {},
   "outputs": [
    {
     "name": "stdout",
     "output_type": "stream",
     "text": [
      "Adding 1 to the array\n",
      "[[[2 3 4 5 6]\n",
      "  [2 3 4 5 6]]]\n",
      "************************************\n",
      "Adding array to the array\n",
      "[[[ 2  4  6  8 10]\n",
      "  [ 2  4  6  8 10]]]\n",
      "************************************\n",
      "Subtracting array from the array\n",
      "[[[0 0 0 0 0]\n",
      "  [0 0 0 0 0]]]\n",
      "************************************\n",
      "Multiplying array with 2\n",
      "[[[ 2  4  6  8 10]\n",
      "  [ 2  4  6  8 10]]]\n",
      "************************************\n",
      "Extracting elements from the 3d array - the FIRST dimension\n",
      "[[1 2 3 4 5]\n",
      " [1 2 3 4 5]]\n",
      "************************************\n",
      "Extracting elements from the 3d array - the SECOND dimension\n",
      "[1 2 3 4 5]\n",
      "[1 2 3 4 5]\n",
      "************************************\n",
      "Extracting elements from the 3d array - the THIRD dimension\n",
      "1\n",
      "1\n"
     ]
    }
   ],
   "source": [
    "print('Adding 1 to the array')\n",
    "print(my_3d_numpy_array + 1) # This will work for a numpy array, it will add 1 for every elements in the array\n",
    "add_separator()\n",
    "print('Adding array to the array')\n",
    "print(my_3d_numpy_array + my_3d_numpy_array) # This operation adds the elements position wise for the arrays\n",
    "add_separator()\n",
    "print('Subtracting array from the array')\n",
    "print(my_3d_numpy_array - my_3d_numpy_array) # This operation subtracts the elements position wise for the arrays\n",
    "add_separator()\n",
    "print('Multiplying array with 2')\n",
    "print(my_3d_numpy_array * 2) # This operation multiplies the elements by 2 position wise\n",
    "add_separator()\n",
    "print('Extracting elements from the 3d array - the FIRST dimension')\n",
    "print(my_3d_numpy_array[0])\n",
    "add_separator()\n",
    "print('Extracting elements from the 3d array - the SECOND dimension')\n",
    "print(my_3d_numpy_array[0][0])\n",
    "print(my_3d_numpy_array[0,0])\n",
    "add_separator()\n",
    "print('Extracting elements from the 3d array - the THIRD dimension')\n",
    "print(my_3d_numpy_array[0][0][0])\n",
    "print(my_3d_numpy_array[0,0,0])"
   ]
  },
  {
   "cell_type": "markdown",
   "id": "5dbcdb2d",
   "metadata": {},
   "source": [
    "### Python set"
   ]
  },
  {
   "cell_type": "code",
   "execution_count": 56,
   "id": "b2ea2d89",
   "metadata": {},
   "outputs": [
    {
     "name": "stdout",
     "output_type": "stream",
     "text": [
      "List allows duplicates\n",
      "['India', 'England', 'France', 'Greece', 'Nepal', 'India']\n",
      "************************************\n",
      "Set doesnt allow duplicates\n",
      "{'Greece', 'France', 'England', 'Nepal', 'India'}\n"
     ]
    }
   ],
   "source": [
    "list_countries = ['India', 'England', 'France', 'Greece', 'Nepal', 'India']\n",
    "set_countries = set(list_countries)\n",
    "print('List allows duplicates')\n",
    "print(list_countries)\n",
    "add_separator()\n",
    "print('Set doesnt allow duplicates')\n",
    "print(set_countries)"
   ]
  },
  {
   "cell_type": "code",
   "execution_count": 59,
   "id": "2695bd9f",
   "metadata": {},
   "outputs": [
    {
     "name": "stdout",
     "output_type": "stream",
     "text": [
      "List is an ordered collection, hence it allows to extract elements based on indexes\n",
      "India\n"
     ]
    }
   ],
   "source": [
    "print('List is an ordered collection, hence it allows to extract elements based on indexes')\n",
    "print(list_countries[0])"
   ]
  },
  {
   "cell_type": "code",
   "execution_count": 60,
   "id": "8601dd4b",
   "metadata": {},
   "outputs": [
    {
     "name": "stdout",
     "output_type": "stream",
     "text": [
      "Set is NOT an ordered collection, hence it doesnt allow to extract elements based on indexes\n"
     ]
    },
    {
     "ename": "TypeError",
     "evalue": "'set' object is not subscriptable",
     "output_type": "error",
     "traceback": [
      "\u001b[1;31m---------------------------------------------------------------------------\u001b[0m",
      "\u001b[1;31mTypeError\u001b[0m                                 Traceback (most recent call last)",
      "\u001b[1;32m~\\AppData\\Local\\Temp\\ipykernel_15472\\1246297880.py\u001b[0m in \u001b[0;36m<module>\u001b[1;34m\u001b[0m\n\u001b[0;32m      1\u001b[0m \u001b[0mprint\u001b[0m\u001b[1;33m(\u001b[0m\u001b[1;34m'Set is NOT an ordered collection, hence it doesnt allow to extract elements based on indexes'\u001b[0m\u001b[1;33m)\u001b[0m\u001b[1;33m\u001b[0m\u001b[1;33m\u001b[0m\u001b[0m\n\u001b[1;32m----> 2\u001b[1;33m \u001b[0mprint\u001b[0m\u001b[1;33m(\u001b[0m\u001b[0mset_countries\u001b[0m\u001b[1;33m[\u001b[0m\u001b[1;36m0\u001b[0m\u001b[1;33m]\u001b[0m\u001b[1;33m)\u001b[0m\u001b[1;33m\u001b[0m\u001b[1;33m\u001b[0m\u001b[0m\n\u001b[0m",
      "\u001b[1;31mTypeError\u001b[0m: 'set' object is not subscriptable"
     ]
    }
   ],
   "source": [
    "print('Set is NOT an ordered collection, hence it doesnt allow to extract elements based on indexes')\n",
    "print(set_countries[0])"
   ]
  },
  {
   "cell_type": "code",
   "execution_count": 63,
   "id": "c85fe2c4",
   "metadata": {},
   "outputs": [
    {
     "name": "stdout",
     "output_type": "stream",
     "text": [
      "List is mutable, hence it allows to add elements\n",
      "['India', 'England', 'France', 'Greece', 'Nepal', 'India', 'Italy', 'Italy', 'Italy']\n"
     ]
    }
   ],
   "source": [
    "print('List is mutable, hence it allows to add elements')\n",
    "list_countries.append('Italy')\n",
    "print(list_countries)"
   ]
  },
  {
   "cell_type": "code",
   "execution_count": 64,
   "id": "40cfeeef",
   "metadata": {},
   "outputs": [
    {
     "name": "stdout",
     "output_type": "stream",
     "text": [
      "Set is NOT mutable, hence it doesnt allow to add elements\n"
     ]
    },
    {
     "ename": "AttributeError",
     "evalue": "'set' object has no attribute 'append'",
     "output_type": "error",
     "traceback": [
      "\u001b[1;31m---------------------------------------------------------------------------\u001b[0m",
      "\u001b[1;31mAttributeError\u001b[0m                            Traceback (most recent call last)",
      "\u001b[1;32m~\\AppData\\Local\\Temp\\ipykernel_15472\\2796151364.py\u001b[0m in \u001b[0;36m<module>\u001b[1;34m\u001b[0m\n\u001b[0;32m      1\u001b[0m \u001b[0mprint\u001b[0m\u001b[1;33m(\u001b[0m\u001b[1;34m'Set is NOT mutable, hence it doesnt allow to add elements'\u001b[0m\u001b[1;33m)\u001b[0m\u001b[1;33m\u001b[0m\u001b[1;33m\u001b[0m\u001b[0m\n\u001b[1;32m----> 2\u001b[1;33m \u001b[0mset_countries\u001b[0m\u001b[1;33m.\u001b[0m\u001b[0mappend\u001b[0m\u001b[1;33m(\u001b[0m\u001b[1;34m'Italy'\u001b[0m\u001b[1;33m)\u001b[0m\u001b[1;33m\u001b[0m\u001b[1;33m\u001b[0m\u001b[0m\n\u001b[0m\u001b[0;32m      3\u001b[0m \u001b[0mprint\u001b[0m\u001b[1;33m(\u001b[0m\u001b[0mset_countries\u001b[0m\u001b[1;33m)\u001b[0m\u001b[1;33m\u001b[0m\u001b[1;33m\u001b[0m\u001b[0m\n",
      "\u001b[1;31mAttributeError\u001b[0m: 'set' object has no attribute 'append'"
     ]
    }
   ],
   "source": [
    "print('Set is NOT mutable, hence it doesnt allow to add elements')\n",
    "set_countries.append('Italy')\n",
    "print(set_countries)"
   ]
  },
  {
   "cell_type": "markdown",
   "id": "d4655b35",
   "metadata": {},
   "source": [
    "### Dictionary"
   ]
  },
  {
   "cell_type": "code",
   "execution_count": 43,
   "id": "5b4e1595",
   "metadata": {},
   "outputs": [
    {
     "name": "stdout",
     "output_type": "stream",
     "text": [
      "{'name': ['India', 'England', 'France', 'Greece', 'Nepal'], 'capital': ['New Delhi', 'London', 'Paris', 'Athens', 'Kathmundu']}\n",
      "<class 'dict'>\n"
     ]
    }
   ],
   "source": [
    "list_countries = {\n",
    "    'name' : ['India', 'England', 'France', 'Greece', 'Nepal'],\n",
    "    'capital' : ['New Delhi', 'London', 'Paris', 'Athens', 'Kathmundu']\n",
    "}\n",
    "\n",
    "print(list_countries)\n",
    "print(type(list_countries))"
   ]
  },
  {
   "cell_type": "code",
   "execution_count": 44,
   "id": "3ca7f31a",
   "metadata": {},
   "outputs": [],
   "source": [
    "my_dataframe = pd.DataFrame(data = list_countries)"
   ]
  },
  {
   "cell_type": "code",
   "execution_count": 45,
   "id": "b414dbcd",
   "metadata": {},
   "outputs": [
    {
     "data": {
      "text/html": [
       "<div>\n",
       "<style scoped>\n",
       "    .dataframe tbody tr th:only-of-type {\n",
       "        vertical-align: middle;\n",
       "    }\n",
       "\n",
       "    .dataframe tbody tr th {\n",
       "        vertical-align: top;\n",
       "    }\n",
       "\n",
       "    .dataframe thead th {\n",
       "        text-align: right;\n",
       "    }\n",
       "</style>\n",
       "<table border=\"1\" class=\"dataframe\">\n",
       "  <thead>\n",
       "    <tr style=\"text-align: right;\">\n",
       "      <th></th>\n",
       "      <th>name</th>\n",
       "      <th>capital</th>\n",
       "    </tr>\n",
       "  </thead>\n",
       "  <tbody>\n",
       "    <tr>\n",
       "      <th>0</th>\n",
       "      <td>India</td>\n",
       "      <td>New Delhi</td>\n",
       "    </tr>\n",
       "    <tr>\n",
       "      <th>1</th>\n",
       "      <td>England</td>\n",
       "      <td>London</td>\n",
       "    </tr>\n",
       "    <tr>\n",
       "      <th>2</th>\n",
       "      <td>France</td>\n",
       "      <td>Paris</td>\n",
       "    </tr>\n",
       "    <tr>\n",
       "      <th>3</th>\n",
       "      <td>Greece</td>\n",
       "      <td>Athens</td>\n",
       "    </tr>\n",
       "    <tr>\n",
       "      <th>4</th>\n",
       "      <td>Nepal</td>\n",
       "      <td>Kathmundu</td>\n",
       "    </tr>\n",
       "  </tbody>\n",
       "</table>\n",
       "</div>"
      ],
      "text/plain": [
       "      name    capital\n",
       "0    India  New Delhi\n",
       "1  England     London\n",
       "2   France      Paris\n",
       "3   Greece     Athens\n",
       "4    Nepal  Kathmundu"
      ]
     },
     "execution_count": 45,
     "metadata": {},
     "output_type": "execute_result"
    }
   ],
   "source": [
    "my_dataframe"
   ]
  },
  {
   "cell_type": "code",
   "execution_count": null,
   "id": "2c419d0a",
   "metadata": {},
   "outputs": [],
   "source": []
  },
  {
   "cell_type": "code",
   "execution_count": null,
   "id": "56231bd0",
   "metadata": {},
   "outputs": [],
   "source": []
  },
  {
   "cell_type": "code",
   "execution_count": null,
   "id": "20ba06f1",
   "metadata": {},
   "outputs": [],
   "source": []
  },
  {
   "cell_type": "code",
   "execution_count": null,
   "id": "091cb749",
   "metadata": {},
   "outputs": [],
   "source": []
  },
  {
   "cell_type": "code",
   "execution_count": null,
   "id": "b384a170",
   "metadata": {},
   "outputs": [],
   "source": []
  },
  {
   "cell_type": "code",
   "execution_count": null,
   "id": "23a377a1",
   "metadata": {},
   "outputs": [],
   "source": []
  },
  {
   "cell_type": "code",
   "execution_count": null,
   "id": "e3d66268",
   "metadata": {},
   "outputs": [],
   "source": []
  },
  {
   "cell_type": "code",
   "execution_count": null,
   "id": "b1d4f5a9",
   "metadata": {},
   "outputs": [],
   "source": []
  },
  {
   "cell_type": "code",
   "execution_count": null,
   "id": "8c7a5d14",
   "metadata": {},
   "outputs": [],
   "source": []
  }
 ],
 "metadata": {
  "kernelspec": {
   "display_name": "Python 3 (ipykernel)",
   "language": "python",
   "name": "python3"
  },
  "language_info": {
   "codemirror_mode": {
    "name": "ipython",
    "version": 3
   },
   "file_extension": ".py",
   "mimetype": "text/x-python",
   "name": "python",
   "nbconvert_exporter": "python",
   "pygments_lexer": "ipython3",
   "version": "3.9.13"
  }
 },
 "nbformat": 4,
 "nbformat_minor": 5
}
