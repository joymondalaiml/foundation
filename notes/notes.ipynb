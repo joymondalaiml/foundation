{
 "cells": [
  {
   "cell_type": "markdown",
   "id": "0319f554",
   "metadata": {},
   "source": [
    "## Dictionary\n",
    "\n",
    "- Always in key : value pairs\n",
    "- **Mutable**, meaning we are allowed to add and or remove values based on keys\n",
    "- **Unordered** - From Python 3.7 dictionaries are ordered as well\n",
    "- Cannot be searched based on indexes, always **searched based on keys** and we get the values of the corresponding keys back\n",
    "- Keys are **immutable**, hence keys cannot be any data types which are mutable e.g., lists etc. Can be of any immutable data type, such as strings, numbers, or tuples\n",
    "- Values can be of any data type — **mutable** or **immutable** — including other dictionaries or objects\n",
    "- When we loop over the dictionary, we always **loop over on the keys**\n",
    "- **keys()**, **values()** method return all the keys and values respectively from the dictionary\n",
    "- **item()** returns both the keys and values"
   ]
  },
  {
   "cell_type": "markdown",
   "id": "0dee902f",
   "metadata": {},
   "source": [
    "## Lists\n",
    "\n",
    "- **Ordered**, **mutable**\n",
    "- **List comprehension** is building a list from an another iterable\n",
    "- **zip** is to combine multiple iterables element by element based on their positions, always returns a tuple\n",
    "- To convert the tuple returned by the zip function, list() can be used\n",
    "- **unzip** is to assign the individual elements according to their orderes in separate variables"
   ]
  },
  {
   "cell_type": "markdown",
   "id": "21c3e352",
   "metadata": {},
   "source": [
    "## Tuple\n",
    "\n",
    "- **Ordered**, **immutable**\n",
    "- When any function returns more than one values, they are returned as a tuple"
   ]
  },
  {
   "cell_type": "markdown",
   "id": "df15524c",
   "metadata": {},
   "source": [
    "### Training vs Validation vs Test\n",
    "\n",
    "#### Training\n",
    "- This is the dataset on which the model is being trained\n",
    "\n",
    "#### Validation\n",
    "- This is the portion of the dataset which is NOT used to train the model\n",
    "- This is the dataset on which the model is being evaluated during the training phase\n",
    "- This is useful to evaluate the model performance during training on unseen data, this helps to **avoid overfitting**\n",
    "\n",
    "#### Test\n",
    "- This is the dataset on which the model is being evaluated post the training"
   ]
  },
  {
   "cell_type": "code",
   "execution_count": null,
   "id": "ca93fb76",
   "metadata": {},
   "outputs": [],
   "source": []
  },
  {
   "cell_type": "code",
   "execution_count": null,
   "id": "fe71d176",
   "metadata": {},
   "outputs": [],
   "source": []
  },
  {
   "cell_type": "code",
   "execution_count": null,
   "id": "86bee98d",
   "metadata": {},
   "outputs": [],
   "source": []
  },
  {
   "cell_type": "code",
   "execution_count": null,
   "id": "f9ac542d",
   "metadata": {},
   "outputs": [],
   "source": []
  },
  {
   "cell_type": "code",
   "execution_count": null,
   "id": "aa129609",
   "metadata": {},
   "outputs": [],
   "source": []
  },
  {
   "cell_type": "code",
   "execution_count": null,
   "id": "b696fb6c",
   "metadata": {},
   "outputs": [],
   "source": []
  },
  {
   "cell_type": "code",
   "execution_count": null,
   "id": "53dd2b2d",
   "metadata": {},
   "outputs": [],
   "source": []
  }
 ],
 "metadata": {
  "kernelspec": {
   "display_name": "Python 3 (ipykernel)",
   "language": "python",
   "name": "python3"
  },
  "language_info": {
   "codemirror_mode": {
    "name": "ipython",
    "version": 3
   },
   "file_extension": ".py",
   "mimetype": "text/x-python",
   "name": "python",
   "nbconvert_exporter": "python",
   "pygments_lexer": "ipython3",
   "version": "3.9.13"
  }
 },
 "nbformat": 4,
 "nbformat_minor": 5
}
